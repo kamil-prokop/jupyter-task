{
 "cells": [
  {
   "cell_type": "markdown",
   "id": "729fdf3c-bbed-4e3d-884f-886aad64baa0",
   "metadata": {},
   "source": [
    "# aby napisać funkcję trzeba użyć słowa: def"
   ]
  },
  {
   "cell_type": "code",
   "execution_count": 9,
   "id": "21c38d07",
   "metadata": {},
   "outputs": [],
   "source": [
    "# w nawiasach otwartych należy podać zmienne"
   ]
  },
  {
   "cell_type": "markdown",
   "id": "12c1fa78-e2f0-4f93-ab07-b9a4f4fe3846",
   "metadata": {},
   "source": [
    "# w nawiasach otwartych należy podać zmienne"
   ]
  },
  {
   "cell_type": "code",
   "execution_count": 10,
   "id": "7718cd52-f70b-4540-9626-bfdc98f788da",
   "metadata": {
    "tags": []
   },
   "outputs": [
    {
     "data": {
      "text/plain": [
       "6"
      ]
     },
     "execution_count": 10,
     "metadata": {},
     "output_type": "execute_result"
    }
   ],
   "source": [
    "dodawanie(2, 4)"
   ]
  }
 ],
 "metadata": {
  "kernelspec": {
   "display_name": "Python 3 (ipykernel)",
   "language": "python",
   "name": "python3"
  },
  "language_info": {
   "codemirror_mode": {
    "name": "ipython",
    "version": 3
   },
   "file_extension": ".py",
   "mimetype": "text/x-python",
   "name": "python",
   "nbconvert_exporter": "python",
   "pygments_lexer": "ipython3",
   "version": "3.9.0"
  }
 },
 "nbformat": 4,
 "nbformat_minor": 5
}
