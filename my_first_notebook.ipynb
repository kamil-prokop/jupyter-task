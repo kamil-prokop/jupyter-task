{
 "cells": [
  {
   "cell_type": "markdown",
   "id": "bd8446a7-e92c-4720-afff-a2df19783849",
   "metadata": {
    "tags": []
   },
   "source": [
    "#my_first_notebook"
   ]
  },
  {
   "cell_type": "markdown",
   "id": "ceccd96d-8be8-40a4-899c-fecd922aba0c",
   "metadata": {
    "tags": []
   },
   "source": [
    "This is my first notebook. This text is made with Markdown."
   ]
  },
  {
   "cell_type": "code",
   "execution_count": 3,
   "id": "5f2e319e-35b7-4f6d-83fd-6299abfc1892",
   "metadata": {
    "tags": []
   },
   "outputs": [
    {
     "name": "stdout",
     "output_type": "stream",
     "text": [
      "This is another cell, this text was printed by Python\n"
     ]
    }
   ],
   "source": [
    "print(\"This is another cell, this text was printed by Python\")"
   ]
  },
  {
   "cell_type": "code",
   "execution_count": null,
   "id": "746b6647-ef3e-44bd-807b-84ea07cf727a",
   "metadata": {},
   "outputs": [],
   "source": []
  },
  {
   "cell_type": "code",
   "execution_count": null,
   "id": "085864d6-aeeb-4fdd-bfae-c13a81d7967a",
   "metadata": {},
   "outputs": [],
   "source": []
  }
 ],
 "metadata": {
  "kernelspec": {
   "display_name": "Python 3 (ipykernel)",
   "language": "python",
   "name": "python3"
  },
  "language_info": {
   "codemirror_mode": {
    "name": "ipython",
    "version": 3
   },
   "file_extension": ".py",
   "mimetype": "text/x-python",
   "name": "python",
   "nbconvert_exporter": "python",
   "pygments_lexer": "ipython3",
   "version": "3.9.0"
  }
 },
 "nbformat": 4,
 "nbformat_minor": 5
}
